{
 "cells": [
  {
   "attachments": {},
   "cell_type": "markdown",
   "id": "450f5892-ec18-4250-9759-91c0a071a2f1",
   "metadata": {},
   "source": [
    "# Python Game"
   ]
  },
  {
   "attachments": {},
   "cell_type": "markdown",
   "id": "89e3c523-4cfc-4b4c-aab8-098271a6d3c9",
   "metadata": {},
   "source": [
    "## Guess The Animal"
   ]
  },
  {
   "cell_type": "markdown",
   "id": "721c1d58",
   "metadata": {},
   "source": [
    "Guess the name of the 5 letter animal and please only use alpha letters only"
   ]
  },
  {
   "cell_type": "code",
   "execution_count": 22,
   "id": "16df9641-fa55-4c91-a8a5-5e9d52ba9193",
   "metadata": {},
   "outputs": [],
   "source": [
    "import random"
   ]
  },
  {
   "attachments": {},
   "cell_type": "markdown",
   "id": "f0df582d-81c7-4c4d-b225-df204c75f637",
   "metadata": {},
   "source": [
    "### Define initial variables"
   ]
  },
  {
   "cell_type": "code",
   "execution_count": 23,
   "id": "10c00858-d7d9-4ac1-8c8b-6644dfdfd73a",
   "metadata": {},
   "outputs": [],
   "source": [
    "game_title = \"Guess The Animal\""
   ]
  },
  {
   "cell_type": "code",
   "execution_count": 24,
   "id": "2c817451-8b32-4bef-b595-24ef5aaa5fab",
   "metadata": {},
   "outputs": [],
   "source": [
    "# Set up the list of words to choose from\n",
    "animal_bank = []"
   ]
  },
  {
   "attachments": {},
   "cell_type": "markdown",
   "id": "4524e1bd-c737-4715-a6ff-f4857c2883d3",
   "metadata": {},
   "source": [
    "### Open file for loading in the word bank"
   ]
  },
  {
   "cell_type": "code",
   "execution_count": 25,
   "id": "93b9a55b-5ed4-42d9-80ca-8c484f02e844",
   "metadata": {},
   "outputs": [],
   "source": [
    "with open(\"animal bank.txt\") as word_file:\n",
    "    for line in word_file:\n",
    "        animal_bank.append(line.rstrip().lower())\n"
   ]
  },
  {
   "attachments": {},
   "cell_type": "markdown",
   "id": "c14b75fd-26c8-48d4-ad27-a833bce5e004",
   "metadata": {},
   "source": [
    "### Select the word to guess"
   ]
  },
  {
   "cell_type": "code",
   "execution_count": 26,
   "id": "5667fb8f-4300-4b1f-a1b1-577d25d1de84",
   "metadata": {},
   "outputs": [],
   "source": [
    "# Pick a random word from the list\n",
    "animal_to_guess = random.choice(animal_bank)"
   ]
  },
  {
   "attachments": {},
   "cell_type": "markdown",
   "id": "84abd85d-f8bf-4b3b-aea9-ca104bcdf65f",
   "metadata": {},
   "source": [
    "### Define the remaining game variables"
   ]
  },
  {
   "cell_type": "code",
   "execution_count": 27,
   "id": "b2a2a89e-9739-4244-9558-7f3b3933ac72",
   "metadata": {},
   "outputs": [],
   "source": [
    "# Set up the game variables\n",
    "misplaced_guesses = []\n",
    "wrong_guesses = []\n",
    "total_attempts = 5\n",
    "attempts_taken = 0"
   ]
  },
  {
   "attachments": {},
   "cell_type": "markdown",
   "id": "b34341ce-8ef5-449d-95a9-675ea360f161",
   "metadata": {},
   "source": [
    "### Print the current game state"
   ]
  },
  {
   "cell_type": "code",
   "execution_count": 28,
   "id": "7918773d-7e43-4fe8-bec6-313d342effde",
   "metadata": {},
   "outputs": [
    {
     "name": "stdout",
     "output_type": "stream",
     "text": [
      "Welcome to Guess The Animal\n",
      "The word contains 5 letters.\n",
      "You have 5 attempts left.\n"
     ]
    }
   ],
   "source": [
    "# Display the initial game state\n",
    "print(\"Welcome to\", game_title)\n",
    "print(\"The word contains\", len(animal_to_guess), \"letters.\")\n",
    "print(\"You have\", total_attempts - attempts_taken, \"attempts left.\")"
   ]
  },
  {
   "attachments": {},
   "cell_type": "markdown",
   "id": "2771a668-a06a-4306-8b61-f39a3871f4c1",
   "metadata": {},
   "source": [
    "### Build the game loop"
   ]
  },
  {
   "cell_type": "code",
   "execution_count": 29,
   "id": "b21e5fbd-461f-4556-ae64-b4deaf7f16ba",
   "metadata": {},
   "outputs": [
    {
     "name": "stdout",
     "output_type": "stream",
     "text": [
      "_ _ _ _ _ \n",
      "\n",
      "Misplaced letters:  ['o']\n",
      "Incorrect letters:  ['h', 'i', 'p']\n",
      "You have 4 turns left.\n",
      "_ o _ s e \n",
      "\n",
      "Misplaced letters:  []\n",
      "Incorrect letters:  ['h', 'i', 'p', 'r']\n",
      "You have 3 turns left.\n",
      "_ _ _ _ _ \n",
      "\n",
      "Misplaced letters:  ['o']\n",
      "Incorrect letters:  ['h', 'i', 'p', 'r', 'n']\n",
      "You have 2 turns left.\n",
      "_ o _ _ _ \n",
      "\n",
      "Misplaced letters:  []\n",
      "Incorrect letters:  ['h', 'i', 'p', 'r', 'n', 'k', 'a', 'l']\n",
      "You have 1 turns left.\n",
      "m o o s e \n",
      "\n",
      "Misplaced letters:  []\n",
      "Incorrect letters:  ['h', 'i', 'p', 'r', 'n', 'k', 'a', 'l']\n",
      "Well done, you win!\n"
     ]
    }
   ],
   "source": [
    "while attempts_taken < total_attempts:\n",
    "    # Retrieve the players guess\n",
    "    guess = input(\"Guess an animal: \").lower()\n",
    "\n",
    "    # Check if guess length equals to 5 letters and is all alpha letters\n",
    "    if len(guess) != len(animal_to_guess) or not guess.isalpha():\n",
    "        print(\"Please enter a 5-letter word.\")\n",
    "        continue\n",
    "\n",
    "\n",
    "    # Check each letter in the guess against the animals's letters\n",
    "    index = 0\n",
    "    for x in guess:\n",
    "        if x == animal_to_guess[index]:\n",
    "            print(x, end=\" \")\n",
    "            if x in misplaced_guesses:\n",
    "                misplaced_guesses.remove(x)\n",
    "        elif x in animal_to_guess:\n",
    "            if x not in misplaced_guesses:\n",
    "                misplaced_guesses.append(x)\n",
    "            print(\"_\", end=\" \")\n",
    "        else:\n",
    "            if x not in wrong_guesses:\n",
    "                wrong_guesses.append(x)\n",
    "            print(\"_\", end=\" \")\n",
    "        index += 1\n",
    "\n",
    "    print(\"\\n\")\n",
    "    print(\"Misplaced letters: \", misplaced_guesses)\n",
    "    print(\"Incorrect letters: \", wrong_guesses)\n",
    "    attempts_taken += 1\n",
    "\n",
    "    # Check if player has won\n",
    "    if guess == animal_to_guess:\n",
    "        print(\"Well done, you win!\")\n",
    "        break\n",
    "\n",
    "    # Check if player has lost\n",
    "    if attempts_taken == total_attempts:\n",
    "        print(\"Sorry, you lost. The animal was\", animal_to_guess)\n",
    "        break\n",
    "\n",
    "    # Display number of attempts left and request another guess\n",
    "    print(\"You have\", total_attempts - attempts_taken, \"turns left.\")"
   ]
  },
  {
   "cell_type": "code",
   "execution_count": null,
   "id": "8417510d-ffb1-4593-b65b-2ec49d6900b6",
   "metadata": {},
   "outputs": [],
   "source": []
  }
 ],
 "metadata": {
  "kernelspec": {
   "display_name": "Python 3 (ipykernel)",
   "language": "python",
   "name": "python3"
  },
  "language_info": {
   "codemirror_mode": {
    "name": "ipython",
    "version": 3
   },
   "file_extension": ".py",
   "mimetype": "text/x-python",
   "name": "python",
   "nbconvert_exporter": "python",
   "pygments_lexer": "ipython3",
   "version": "3.11.5"
  }
 },
 "nbformat": 4,
 "nbformat_minor": 5
}
